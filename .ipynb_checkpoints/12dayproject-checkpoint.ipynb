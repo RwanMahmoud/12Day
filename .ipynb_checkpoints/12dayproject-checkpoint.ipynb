{
 "cells": [
  {
   "cell_type": "code",
   "execution_count": 1,
   "metadata": {},
   "outputs": [],
   "source": [
    "#12 day project"
   ]
  },
  {
   "cell_type": "code",
   "execution_count": 2,
   "metadata": {},
   "outputs": [],
   "source": [
    "#conda install -c anaconda quandl\n",
    "#conda install bokeh\n"
   ]
  },
  {
   "cell_type": "code",
   "execution_count": 3,
   "metadata": {},
   "outputs": [],
   "source": [
    "import quandl\n",
    "import pandas as pd\n",
    "import requests\n",
    "#quandl.ApiConfig.api_key = \"kj_HTAuyzXuNCnYrKEos\""
   ]
  },
  {
   "cell_type": "code",
   "execution_count": 4,
   "metadata": {},
   "outputs": [],
   "source": [
    "api_key='kj_HTAuyzXuNCnYrKEos'\n",
    "ticker='ZUMZ'\n",
    "url='https://www.quandl.com/api/v3/datatables/WIKI/PRICES?ticker={}&api_key={}'.format(ticker,api_key)"
   ]
  },
  {
   "cell_type": "code",
   "execution_count": 5,
   "metadata": {},
   "outputs": [],
   "source": [
    "res = requests.get(url)\n",
    "x=res.json()"
   ]
  },
  {
   "cell_type": "code",
   "execution_count": 6,
   "metadata": {},
   "outputs": [],
   "source": [
    "columns_names=['ticker','date','open','high','low','close','volume','ex-dividend','split-ratio','adj_open','adj_high','adj_low','adj_close','adj_volume']\n",
    "df = pd.DataFrame(x['datatable']['data'])\n",
    "df.columns=columns_names\n",
    "df['date'] = pd.to_datetime(df['date']) #to change into pandas Date type\n",
    "df['year'] = pd.DatetimeIndex(df['date']).year \n",
    "df['month'] = pd.DatetimeIndex(df['date']).month "
   ]
  },
  {
   "cell_type": "code",
   "execution_count": 7,
   "metadata": {},
   "outputs": [],
   "source": [
    "df=df.sort_values(by=['date'],ascending=False)\n",
    "df=df[df['year']==2017]"
   ]
  },
  {
   "cell_type": "code",
   "execution_count": 8,
   "metadata": {},
   "outputs": [
    {
     "data": {
      "text/html": [
       "<div>\n",
       "<style scoped>\n",
       "    .dataframe tbody tr th:only-of-type {\n",
       "        vertical-align: middle;\n",
       "    }\n",
       "\n",
       "    .dataframe tbody tr th {\n",
       "        vertical-align: top;\n",
       "    }\n",
       "\n",
       "    .dataframe thead th {\n",
       "        text-align: right;\n",
       "    }\n",
       "</style>\n",
       "<table border=\"1\" class=\"dataframe\">\n",
       "  <thead>\n",
       "    <tr style=\"text-align: right;\">\n",
       "      <th></th>\n",
       "      <th>ticker</th>\n",
       "      <th>date</th>\n",
       "      <th>open</th>\n",
       "      <th>high</th>\n",
       "      <th>low</th>\n",
       "      <th>close</th>\n",
       "      <th>volume</th>\n",
       "      <th>ex-dividend</th>\n",
       "      <th>split-ratio</th>\n",
       "      <th>adj_open</th>\n",
       "      <th>adj_high</th>\n",
       "      <th>adj_low</th>\n",
       "      <th>adj_close</th>\n",
       "      <th>adj_volume</th>\n",
       "      <th>year</th>\n",
       "      <th>month</th>\n",
       "    </tr>\n",
       "  </thead>\n",
       "  <tbody>\n",
       "    <tr>\n",
       "      <td>59</td>\n",
       "      <td>ZUMZ</td>\n",
       "      <td>2017-12-29</td>\n",
       "      <td>21.25</td>\n",
       "      <td>21.45</td>\n",
       "      <td>20.80</td>\n",
       "      <td>20.825</td>\n",
       "      <td>222040.0</td>\n",
       "      <td>0.0</td>\n",
       "      <td>1.0</td>\n",
       "      <td>21.25</td>\n",
       "      <td>21.45</td>\n",
       "      <td>20.80</td>\n",
       "      <td>20.825</td>\n",
       "      <td>222040.0</td>\n",
       "      <td>2017</td>\n",
       "      <td>12</td>\n",
       "    </tr>\n",
       "    <tr>\n",
       "      <td>60</td>\n",
       "      <td>ZUMZ</td>\n",
       "      <td>2017-12-28</td>\n",
       "      <td>21.20</td>\n",
       "      <td>21.45</td>\n",
       "      <td>21.05</td>\n",
       "      <td>21.200</td>\n",
       "      <td>162070.0</td>\n",
       "      <td>0.0</td>\n",
       "      <td>1.0</td>\n",
       "      <td>21.20</td>\n",
       "      <td>21.45</td>\n",
       "      <td>21.05</td>\n",
       "      <td>21.200</td>\n",
       "      <td>162070.0</td>\n",
       "      <td>2017</td>\n",
       "      <td>12</td>\n",
       "    </tr>\n",
       "    <tr>\n",
       "      <td>61</td>\n",
       "      <td>ZUMZ</td>\n",
       "      <td>2017-12-27</td>\n",
       "      <td>21.80</td>\n",
       "      <td>22.25</td>\n",
       "      <td>20.95</td>\n",
       "      <td>21.150</td>\n",
       "      <td>227325.0</td>\n",
       "      <td>0.0</td>\n",
       "      <td>1.0</td>\n",
       "      <td>21.80</td>\n",
       "      <td>22.25</td>\n",
       "      <td>20.95</td>\n",
       "      <td>21.150</td>\n",
       "      <td>227325.0</td>\n",
       "      <td>2017</td>\n",
       "      <td>12</td>\n",
       "    </tr>\n",
       "    <tr>\n",
       "      <td>62</td>\n",
       "      <td>ZUMZ</td>\n",
       "      <td>2017-12-26</td>\n",
       "      <td>21.45</td>\n",
       "      <td>22.20</td>\n",
       "      <td>21.45</td>\n",
       "      <td>21.850</td>\n",
       "      <td>213951.0</td>\n",
       "      <td>0.0</td>\n",
       "      <td>1.0</td>\n",
       "      <td>21.45</td>\n",
       "      <td>22.20</td>\n",
       "      <td>21.45</td>\n",
       "      <td>21.850</td>\n",
       "      <td>213951.0</td>\n",
       "      <td>2017</td>\n",
       "      <td>12</td>\n",
       "    </tr>\n",
       "    <tr>\n",
       "      <td>63</td>\n",
       "      <td>ZUMZ</td>\n",
       "      <td>2017-12-22</td>\n",
       "      <td>21.55</td>\n",
       "      <td>21.70</td>\n",
       "      <td>21.30</td>\n",
       "      <td>21.450</td>\n",
       "      <td>209585.0</td>\n",
       "      <td>0.0</td>\n",
       "      <td>1.0</td>\n",
       "      <td>21.55</td>\n",
       "      <td>21.70</td>\n",
       "      <td>21.30</td>\n",
       "      <td>21.450</td>\n",
       "      <td>209585.0</td>\n",
       "      <td>2017</td>\n",
       "      <td>12</td>\n",
       "    </tr>\n",
       "  </tbody>\n",
       "</table>\n",
       "</div>"
      ],
      "text/plain": [
       "   ticker       date   open   high    low   close    volume  ex-dividend  \\\n",
       "59   ZUMZ 2017-12-29  21.25  21.45  20.80  20.825  222040.0          0.0   \n",
       "60   ZUMZ 2017-12-28  21.20  21.45  21.05  21.200  162070.0          0.0   \n",
       "61   ZUMZ 2017-12-27  21.80  22.25  20.95  21.150  227325.0          0.0   \n",
       "62   ZUMZ 2017-12-26  21.45  22.20  21.45  21.850  213951.0          0.0   \n",
       "63   ZUMZ 2017-12-22  21.55  21.70  21.30  21.450  209585.0          0.0   \n",
       "\n",
       "    split-ratio  adj_open  adj_high  adj_low  adj_close  adj_volume  year  \\\n",
       "59          1.0     21.25     21.45    20.80     20.825    222040.0  2017   \n",
       "60          1.0     21.20     21.45    21.05     21.200    162070.0  2017   \n",
       "61          1.0     21.80     22.25    20.95     21.150    227325.0  2017   \n",
       "62          1.0     21.45     22.20    21.45     21.850    213951.0  2017   \n",
       "63          1.0     21.55     21.70    21.30     21.450    209585.0  2017   \n",
       "\n",
       "    month  \n",
       "59     12  \n",
       "60     12  \n",
       "61     12  \n",
       "62     12  \n",
       "63     12  "
      ]
     },
     "execution_count": 8,
     "metadata": {},
     "output_type": "execute_result"
    }
   ],
   "source": [
    "df.head()"
   ]
  },
  {
   "cell_type": "code",
   "execution_count": 9,
   "metadata": {},
   "outputs": [],
   "source": [
    "#Bokeh\n",
    "\n",
    "from bokeh.plotting import figure,output_file,show\n",
    "\n",
    "plotting=df['close']\n",
    "output_file('templates/eg2.html')\n",
    "date=df['date']\n",
    "\n",
    "#add plot\n",
    "p=figure(\n",
    "    \n",
    "    title='QUANDL WIKI EOD Stock Prices - 2017',\n",
    "    x_axis_label='date',\n",
    "    x_axis_type='datetime'\n",
    "    #y_axis_label='Y axis'\n",
    ")\n",
    "\n",
    "#render glyph\n",
    "p.line(date,plotting,legend='{}: close'.format(ticker),line_width=2)\n",
    "\n",
    "#show results\n",
    "show(p)"
   ]
  },
  {
   "cell_type": "code",
   "execution_count": null,
   "metadata": {},
   "outputs": [],
   "source": []
  },
  {
   "cell_type": "code",
   "execution_count": null,
   "metadata": {},
   "outputs": [],
   "source": []
  },
  {
   "cell_type": "code",
   "execution_count": null,
   "metadata": {},
   "outputs": [],
   "source": []
  }
 ],
 "metadata": {
  "kernelspec": {
   "display_name": "Python 3",
   "language": "python",
   "name": "python3"
  },
  "language_info": {
   "codemirror_mode": {
    "name": "ipython",
    "version": 3
   },
   "file_extension": ".py",
   "mimetype": "text/x-python",
   "name": "python",
   "nbconvert_exporter": "python",
   "pygments_lexer": "ipython3",
   "version": "3.7.4"
  }
 },
 "nbformat": 4,
 "nbformat_minor": 2
}
