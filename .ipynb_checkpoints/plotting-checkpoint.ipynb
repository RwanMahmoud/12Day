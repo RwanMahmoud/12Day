{
 "cells": [
  {
   "cell_type": "code",
   "execution_count": null,
   "metadata": {},
   "outputs": [],
   "source": [
    "def plotting(ticker,plot_type):\n",
    "    \n",
    "    import quandl\n",
    "\n",
    "    import pandas as pd\n",
    "    import requests\n",
    "    from bokeh.plotting import figure,output_file,show\n",
    "\n",
    "\n",
    "    api_key='kj_HTAuyzXuNCnYrKEos'\n",
    "    url='https://www.quandl.com/api/v3/datatables/WIKI/PRICES?ticker={}&api_key={}'.format(ticker,api_key)\n",
    "    res = requests.get(url)\n",
    "    x=res.json()\n",
    "    columns_names=['ticker','date','open','high','low','close','volume','ex-dividend','split-ratio','adj_open','adj_high','adj_low','adj_close','adj_volume']\n",
    "    df = pd.DataFrame(x['datatable']['data'])\n",
    "    df.columns=columns_names\n",
    "    df['date'] = pd.to_datetime(df['date']) #to change into pandas Date type\n",
    "    df['year'] = pd.DatetimeIndex(df['date']).year \n",
    "    df['month'] = pd.DatetimeIndex(df['date']).month \n",
    "\n",
    "    df=df.sort_values(by=['date'],ascending=False)\n",
    "    df=df[df['year']==2017]\n",
    "        \n",
    "        \n",
    "    plotting=df[plot_type]\n",
    "    output_file('plot.html')\n",
    "    date=df['date']\n",
    "\n",
    "    #add plot\n",
    "    p=figure(\n",
    "        title='QUANDL WIKI EOD Stock Prices - 2017',\n",
    "        x_axis_label='date',\n",
    "        x_axis_type='datetime'\n",
    "        )\n",
    "\n",
    "        ##render glyph\n",
    "    p.line(date,plotting,legend='{}: close'.format(ticker),line_width=2)\n",
    "\n",
    "        ##show results\n",
    "        #show(p)\n",
    "\n"
   ]
  }
 ],
 "metadata": {
  "kernelspec": {
   "display_name": "Python 3",
   "language": "python",
   "name": "python3"
  },
  "language_info": {
   "codemirror_mode": {
    "name": "ipython",
    "version": 3
   },
   "file_extension": ".py",
   "mimetype": "text/x-python",
   "name": "python",
   "nbconvert_exporter": "python",
   "pygments_lexer": "ipython3",
   "version": "3.7.4"
  }
 },
 "nbformat": 4,
 "nbformat_minor": 2
}
